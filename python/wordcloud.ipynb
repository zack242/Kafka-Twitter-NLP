{
 "cells": [
  {
   "cell_type": "code",
   "execution_count": null,
   "metadata": {},
   "outputs": [],
   "source": [
    "from wordcloud import WordCloud\n",
    "from collections import Counter\n",
    "import nltk\n",
    "from kafka import KafkaConsumer\n",
    "import json\n",
    "import nltk\n",
    "nltk.download('stopwords')\n",
    "from nltk.corpus import stopwords"
   ]
  },
  {
   "cell_type": "code",
   "execution_count": null,
   "metadata": {},
   "outputs": [],
   "source": [
    "consumer = KafkaConsumer()\n",
    "consumer.subscribe(['rawTwitter'])\n",
    "compteur = 0\n",
    "\n",
    "tweets = []\n",
    "\n",
    "for msg in consumer:\n",
    "    res = json.loads(msg.value.decode('utf-8')) \n",
    "    tweets.append(res['text'])\n",
    "    compteur+=1\n",
    "    if compteur == 100 : \n",
    "        break\n",
    "    "
   ]
  },
  {
   "cell_type": "code",
   "execution_count": 48,
   "metadata": {},
   "outputs": [
    {
     "name": "stderr",
     "output_type": "stream",
     "text": [
      "[nltk_data] Downloading package stopwords to\n",
      "[nltk_data]     /Users/zakariatozy/nltk_data...\n",
      "[nltk_data]   Package stopwords is already up-to-date!\n"
     ]
    },
    {
     "ename": "TypeError",
     "evalue": "seek() takes 2 positional arguments but 3 were given",
     "output_type": "error",
     "traceback": [
      "\u001b[0;31m---------------------------------------------------------------------------\u001b[0m",
      "\u001b[0;31mTypeError\u001b[0m                                 Traceback (most recent call last)",
      "\u001b[1;32m/Users/zakariatozy/Library/Mobile Documents/com~apple~CloudDocs/IPP/IPP ZAK/DATAStrem/projet/python/wordcloud.ipynb Cellule 3\u001b[0m in \u001b[0;36m<cell line: 26>\u001b[0;34m()\u001b[0m\n\u001b[1;32m     <a href='vscode-notebook-cell:/Users/zakariatozy/Library/Mobile%20Documents/com~apple~CloudDocs/IPP/IPP%20ZAK/DATAStrem/projet/python/wordcloud.ipynb#W5sZmlsZQ%3D%3D?line=65'>66</a>\u001b[0m headers \u001b[39m=\u001b[39m {\u001b[39m'\u001b[39m\u001b[39mContent-Type\u001b[39m\u001b[39m'\u001b[39m: \u001b[39m'\u001b[39m\u001b[39mimage/jpeg\u001b[39m\u001b[39m'\u001b[39m}\n\u001b[1;32m     <a href='vscode-notebook-cell:/Users/zakariatozy/Library/Mobile%20Documents/com~apple~CloudDocs/IPP/IPP%20ZAK/DATAStrem/projet/python/wordcloud.ipynb#W5sZmlsZQ%3D%3D?line=66'>67</a>\u001b[0m \u001b[39m# Make the POST request to the server\u001b[39;00m\n\u001b[0;32m---> <a href='vscode-notebook-cell:/Users/zakariatozy/Library/Mobile%20Documents/com~apple~CloudDocs/IPP/IPP%20ZAK/DATAStrem/projet/python/wordcloud.ipynb#W5sZmlsZQ%3D%3D?line=67'>68</a>\u001b[0m response \u001b[39m=\u001b[39m requests\u001b[39m.\u001b[39;49mpost(\u001b[39m'\u001b[39;49m\u001b[39mhttp://localhost:3000/upload\u001b[39;49m\u001b[39m'\u001b[39;49m, data\u001b[39m=\u001b[39;49mimage, headers\u001b[39m=\u001b[39;49mheaders)\n\u001b[1;32m     <a href='vscode-notebook-cell:/Users/zakariatozy/Library/Mobile%20Documents/com~apple~CloudDocs/IPP/IPP%20ZAK/DATAStrem/projet/python/wordcloud.ipynb#W5sZmlsZQ%3D%3D?line=68'>69</a>\u001b[0m \u001b[39m# Display the image\u001b[39;00m\n\u001b[1;32m     <a href='vscode-notebook-cell:/Users/zakariatozy/Library/Mobile%20Documents/com~apple~CloudDocs/IPP/IPP%20ZAK/DATAStrem/projet/python/wordcloud.ipynb#W5sZmlsZQ%3D%3D?line=69'>70</a>\u001b[0m display(image)\n",
      "File \u001b[0;32m~/opt/anaconda3/lib/python3.9/site-packages/requests/api.py:117\u001b[0m, in \u001b[0;36mpost\u001b[0;34m(url, data, json, **kwargs)\u001b[0m\n\u001b[1;32m    105\u001b[0m \u001b[39mdef\u001b[39;00m \u001b[39mpost\u001b[39m(url, data\u001b[39m=\u001b[39m\u001b[39mNone\u001b[39;00m, json\u001b[39m=\u001b[39m\u001b[39mNone\u001b[39;00m, \u001b[39m*\u001b[39m\u001b[39m*\u001b[39mkwargs):\n\u001b[1;32m    106\u001b[0m     \u001b[39mr\u001b[39m\u001b[39m\"\"\"Sends a POST request.\u001b[39;00m\n\u001b[1;32m    107\u001b[0m \n\u001b[1;32m    108\u001b[0m \u001b[39m    :param url: URL for the new :class:`Request` object.\u001b[39;00m\n\u001b[0;32m   (...)\u001b[0m\n\u001b[1;32m    114\u001b[0m \u001b[39m    :rtype: requests.Response\u001b[39;00m\n\u001b[1;32m    115\u001b[0m \u001b[39m    \"\"\"\u001b[39;00m\n\u001b[0;32m--> 117\u001b[0m     \u001b[39mreturn\u001b[39;00m request(\u001b[39m'\u001b[39;49m\u001b[39mpost\u001b[39;49m\u001b[39m'\u001b[39;49m, url, data\u001b[39m=\u001b[39;49mdata, json\u001b[39m=\u001b[39;49mjson, \u001b[39m*\u001b[39;49m\u001b[39m*\u001b[39;49mkwargs)\n",
      "File \u001b[0;32m~/opt/anaconda3/lib/python3.9/site-packages/requests/api.py:61\u001b[0m, in \u001b[0;36mrequest\u001b[0;34m(method, url, **kwargs)\u001b[0m\n\u001b[1;32m     57\u001b[0m \u001b[39m# By using the 'with' statement we are sure the session is closed, thus we\u001b[39;00m\n\u001b[1;32m     58\u001b[0m \u001b[39m# avoid leaving sockets open which can trigger a ResourceWarning in some\u001b[39;00m\n\u001b[1;32m     59\u001b[0m \u001b[39m# cases, and look like a memory leak in others.\u001b[39;00m\n\u001b[1;32m     60\u001b[0m \u001b[39mwith\u001b[39;00m sessions\u001b[39m.\u001b[39mSession() \u001b[39mas\u001b[39;00m session:\n\u001b[0;32m---> 61\u001b[0m     \u001b[39mreturn\u001b[39;00m session\u001b[39m.\u001b[39;49mrequest(method\u001b[39m=\u001b[39;49mmethod, url\u001b[39m=\u001b[39;49murl, \u001b[39m*\u001b[39;49m\u001b[39m*\u001b[39;49mkwargs)\n",
      "File \u001b[0;32m~/opt/anaconda3/lib/python3.9/site-packages/requests/sessions.py:515\u001b[0m, in \u001b[0;36mSession.request\u001b[0;34m(self, method, url, params, data, headers, cookies, files, auth, timeout, allow_redirects, proxies, hooks, stream, verify, cert, json)\u001b[0m\n\u001b[1;32m    502\u001b[0m \u001b[39m# Create the Request.\u001b[39;00m\n\u001b[1;32m    503\u001b[0m req \u001b[39m=\u001b[39m Request(\n\u001b[1;32m    504\u001b[0m     method\u001b[39m=\u001b[39mmethod\u001b[39m.\u001b[39mupper(),\n\u001b[1;32m    505\u001b[0m     url\u001b[39m=\u001b[39murl,\n\u001b[0;32m   (...)\u001b[0m\n\u001b[1;32m    513\u001b[0m     hooks\u001b[39m=\u001b[39mhooks,\n\u001b[1;32m    514\u001b[0m )\n\u001b[0;32m--> 515\u001b[0m prep \u001b[39m=\u001b[39m \u001b[39mself\u001b[39;49m\u001b[39m.\u001b[39;49mprepare_request(req)\n\u001b[1;32m    517\u001b[0m proxies \u001b[39m=\u001b[39m proxies \u001b[39mor\u001b[39;00m {}\n\u001b[1;32m    519\u001b[0m settings \u001b[39m=\u001b[39m \u001b[39mself\u001b[39m\u001b[39m.\u001b[39mmerge_environment_settings(\n\u001b[1;32m    520\u001b[0m     prep\u001b[39m.\u001b[39murl, proxies, stream, verify, cert\n\u001b[1;32m    521\u001b[0m )\n",
      "File \u001b[0;32m~/opt/anaconda3/lib/python3.9/site-packages/requests/sessions.py:443\u001b[0m, in \u001b[0;36mSession.prepare_request\u001b[0;34m(self, request)\u001b[0m\n\u001b[1;32m    440\u001b[0m     auth \u001b[39m=\u001b[39m get_netrc_auth(request\u001b[39m.\u001b[39murl)\n\u001b[1;32m    442\u001b[0m p \u001b[39m=\u001b[39m PreparedRequest()\n\u001b[0;32m--> 443\u001b[0m p\u001b[39m.\u001b[39;49mprepare(\n\u001b[1;32m    444\u001b[0m     method\u001b[39m=\u001b[39;49mrequest\u001b[39m.\u001b[39;49mmethod\u001b[39m.\u001b[39;49mupper(),\n\u001b[1;32m    445\u001b[0m     url\u001b[39m=\u001b[39;49mrequest\u001b[39m.\u001b[39;49murl,\n\u001b[1;32m    446\u001b[0m     files\u001b[39m=\u001b[39;49mrequest\u001b[39m.\u001b[39;49mfiles,\n\u001b[1;32m    447\u001b[0m     data\u001b[39m=\u001b[39;49mrequest\u001b[39m.\u001b[39;49mdata,\n\u001b[1;32m    448\u001b[0m     json\u001b[39m=\u001b[39;49mrequest\u001b[39m.\u001b[39;49mjson,\n\u001b[1;32m    449\u001b[0m     headers\u001b[39m=\u001b[39;49mmerge_setting(request\u001b[39m.\u001b[39;49mheaders, \u001b[39mself\u001b[39;49m\u001b[39m.\u001b[39;49mheaders, dict_class\u001b[39m=\u001b[39;49mCaseInsensitiveDict),\n\u001b[1;32m    450\u001b[0m     params\u001b[39m=\u001b[39;49mmerge_setting(request\u001b[39m.\u001b[39;49mparams, \u001b[39mself\u001b[39;49m\u001b[39m.\u001b[39;49mparams),\n\u001b[1;32m    451\u001b[0m     auth\u001b[39m=\u001b[39;49mmerge_setting(auth, \u001b[39mself\u001b[39;49m\u001b[39m.\u001b[39;49mauth),\n\u001b[1;32m    452\u001b[0m     cookies\u001b[39m=\u001b[39;49mmerged_cookies,\n\u001b[1;32m    453\u001b[0m     hooks\u001b[39m=\u001b[39;49mmerge_hooks(request\u001b[39m.\u001b[39;49mhooks, \u001b[39mself\u001b[39;49m\u001b[39m.\u001b[39;49mhooks),\n\u001b[1;32m    454\u001b[0m )\n\u001b[1;32m    455\u001b[0m \u001b[39mreturn\u001b[39;00m p\n",
      "File \u001b[0;32m~/opt/anaconda3/lib/python3.9/site-packages/requests/models.py:321\u001b[0m, in \u001b[0;36mPreparedRequest.prepare\u001b[0;34m(self, method, url, headers, files, data, params, auth, cookies, hooks, json)\u001b[0m\n\u001b[1;32m    319\u001b[0m \u001b[39mself\u001b[39m\u001b[39m.\u001b[39mprepare_headers(headers)\n\u001b[1;32m    320\u001b[0m \u001b[39mself\u001b[39m\u001b[39m.\u001b[39mprepare_cookies(cookies)\n\u001b[0;32m--> 321\u001b[0m \u001b[39mself\u001b[39;49m\u001b[39m.\u001b[39;49mprepare_body(data, files, json)\n\u001b[1;32m    322\u001b[0m \u001b[39mself\u001b[39m\u001b[39m.\u001b[39mprepare_auth(auth, url)\n\u001b[1;32m    324\u001b[0m \u001b[39m# Note that prepare_auth must be last to enable authentication schemes\u001b[39;00m\n\u001b[1;32m    325\u001b[0m \u001b[39m# such as OAuth to work on a fully prepared request.\u001b[39;00m\n\u001b[1;32m    326\u001b[0m \n\u001b[1;32m    327\u001b[0m \u001b[39m# This MUST go after prepare_auth. Authenticators could add a hook\u001b[39;00m\n",
      "File \u001b[0;32m~/opt/anaconda3/lib/python3.9/site-packages/requests/models.py:523\u001b[0m, in \u001b[0;36mPreparedRequest.prepare_body\u001b[0;34m(self, data, files, json)\u001b[0m\n\u001b[1;32m    520\u001b[0m         \u001b[39melse\u001b[39;00m:\n\u001b[1;32m    521\u001b[0m             content_type \u001b[39m=\u001b[39m \u001b[39m'\u001b[39m\u001b[39mapplication/x-www-form-urlencoded\u001b[39m\u001b[39m'\u001b[39m\n\u001b[0;32m--> 523\u001b[0m \u001b[39mself\u001b[39;49m\u001b[39m.\u001b[39;49mprepare_content_length(body)\n\u001b[1;32m    525\u001b[0m \u001b[39m# Add content-type if it wasn't explicitly provided.\u001b[39;00m\n\u001b[1;32m    526\u001b[0m \u001b[39mif\u001b[39;00m content_type \u001b[39mand\u001b[39;00m (\u001b[39m'\u001b[39m\u001b[39mcontent-type\u001b[39m\u001b[39m'\u001b[39m \u001b[39mnot\u001b[39;00m \u001b[39min\u001b[39;00m \u001b[39mself\u001b[39m\u001b[39m.\u001b[39mheaders):\n",
      "File \u001b[0;32m~/opt/anaconda3/lib/python3.9/site-packages/requests/models.py:534\u001b[0m, in \u001b[0;36mPreparedRequest.prepare_content_length\u001b[0;34m(self, body)\u001b[0m\n\u001b[1;32m    532\u001b[0m \u001b[39m\"\"\"Prepare Content-Length header based on request method and body\"\"\"\u001b[39;00m\n\u001b[1;32m    533\u001b[0m \u001b[39mif\u001b[39;00m body \u001b[39mis\u001b[39;00m \u001b[39mnot\u001b[39;00m \u001b[39mNone\u001b[39;00m:\n\u001b[0;32m--> 534\u001b[0m     length \u001b[39m=\u001b[39m super_len(body)\n\u001b[1;32m    535\u001b[0m     \u001b[39mif\u001b[39;00m length:\n\u001b[1;32m    536\u001b[0m         \u001b[39m# If length exists, set it. Otherwise, we fallback\u001b[39;00m\n\u001b[1;32m    537\u001b[0m         \u001b[39m# to Transfer-Encoding: chunked.\u001b[39;00m\n\u001b[1;32m    538\u001b[0m         \u001b[39mself\u001b[39m\u001b[39m.\u001b[39mheaders[\u001b[39m'\u001b[39m\u001b[39mContent-Length\u001b[39m\u001b[39m'\u001b[39m] \u001b[39m=\u001b[39m builtin_str(length)\n",
      "File \u001b[0;32m~/opt/anaconda3/lib/python3.9/site-packages/requests/utils.py:164\u001b[0m, in \u001b[0;36msuper_len\u001b[0;34m(o)\u001b[0m\n\u001b[1;32m    160\u001b[0m \u001b[39mif\u001b[39;00m \u001b[39mhasattr\u001b[39m(o, \u001b[39m'\u001b[39m\u001b[39mseek\u001b[39m\u001b[39m'\u001b[39m) \u001b[39mand\u001b[39;00m total_length \u001b[39mis\u001b[39;00m \u001b[39mNone\u001b[39;00m:\n\u001b[1;32m    161\u001b[0m     \u001b[39m# StringIO and BytesIO have seek but no usable fileno\u001b[39;00m\n\u001b[1;32m    162\u001b[0m     \u001b[39mtry\u001b[39;00m:\n\u001b[1;32m    163\u001b[0m         \u001b[39m# seek to end of file\u001b[39;00m\n\u001b[0;32m--> 164\u001b[0m         o\u001b[39m.\u001b[39;49mseek(\u001b[39m0\u001b[39;49m, \u001b[39m2\u001b[39;49m)\n\u001b[1;32m    165\u001b[0m         total_length \u001b[39m=\u001b[39m o\u001b[39m.\u001b[39mtell()\n\u001b[1;32m    167\u001b[0m         \u001b[39m# seek back to current position to support\u001b[39;00m\n\u001b[1;32m    168\u001b[0m         \u001b[39m# partially read file-like objects\u001b[39;00m\n",
      "\u001b[0;31mTypeError\u001b[0m: seek() takes 2 positional arguments but 3 were given"
     ]
    }
   ],
   "source": [
    "import json\n",
    "import nltk\n",
    "import numpy as np\n",
    "from PIL import Image\n",
    "from collections import Counter\n",
    "from kafka import KafkaConsumer\n",
    "from nltk.corpus import stopwords\n",
    "from wordcloud import WordCloud\n",
    "from kafka import KafkaProducer\n",
    "import base64\n",
    "import requests\n",
    "\n",
    "twitter_mask = np.array(Image.open('/Users/zakariatozy/Library/Mobile Documents/com~apple~CloudDocs/IPP/IPP ZAK/DATAStrem/projet/twitter_mask.png'))\n",
    "nltk.download('stopwords')\n",
    "\n",
    "# Set up the Kafka consumer\n",
    "consumer = KafkaConsumer()\n",
    "producer = KafkaProducer(bootstrap_servers='localhost:9092')\n",
    "consumer.subscribe(['rawTwitter'])\n",
    "\n",
    "\n",
    "stop_words = stopwords.words('english')\n",
    "\n",
    "while True:\n",
    "    # Initialize the tweet and token lists\n",
    "    tweets = []\n",
    "    tokenized_tweets = []\n",
    "    filtered_tweets = []\n",
    "    all_tokens = []\n",
    "    \n",
    "    # Consume 100 messages from the Kafka topic\n",
    "    for _, msg in zip(range(50), consumer):\n",
    "        res = json.loads(msg.value.decode('utf-8')) \n",
    "        tweets.append(res['text'])\n",
    "\n",
    "    # Preprocess and tokenize the tweets\n",
    "    for tweet in tweets:\n",
    "        # Remove unwanted characters and convert to lowercase\n",
    "        tweet = tweet.lower().replace('#', '').replace('@', '').replace('http', '').replace('?','').replace('!','').replace(':','').replace(',','').replace('.','').replace(\"’\",\"\")\n",
    "        processed_tweet = nltk.word_tokenize(tweet)\n",
    "        tokenized_tweets.append(processed_tweet)\n",
    "\n",
    "    # Remove the stopwords from the list of words\n",
    "    filtered_tweets = [[word for word in tweet if word not in stop_words] for tweet in tokenized_tweets]\n",
    "    \n",
    "    # Flatten the list of tokens\n",
    "    all_tokens = [token for tweet in filtered_tweets for token in tweet]\n",
    "\n",
    "    # Count the frequency of each token\n",
    "    word_counts = Counter(all_tokens)\n",
    "\n",
    "    # Get the N most common words\n",
    "    N = 100\n",
    "    top_words = [word for word, count in word_counts.most_common(N)]\n",
    "\n",
    "    # Create the word cloud\n",
    "    #wordcloud = WordCloud(max_font_size=60, min_font_size=20, prefer_horizontal=0.9, width=800, height=400).generate(\" \".join(top_words))\n",
    "    wordcloud = WordCloud(width=800, height=400,max_words=150,colormap='RdYlGn',contour_color='black',mask=twitter_mask,background_color='white',collocations=True).generate(\" \".join(top_words))\n",
    "\n",
    "    # Convert the word cloud to a base64-encoded image\n",
    "    image = wordcloud.to_image()\n",
    "    image_bytes = image.tobytes()\n",
    "    base64_image = base64.encodebytes(image_bytes)\n",
    " \n",
    "    # Send the base64-encoded image to the Kafka producer\n",
    "    headers = {'Content-Type': 'image/jpeg'}\n",
    "    # Make the POST request to the server\n",
    "    response = requests.post('http://localhost:3000/upload', data=image, headers=headers)\n",
    "    # Display the image\n",
    "    display(image)"
   ]
  }
 ],
 "metadata": {
  "kernelspec": {
   "display_name": "base",
   "language": "python",
   "name": "python3"
  },
  "language_info": {
   "codemirror_mode": {
    "name": "ipython",
    "version": 3
   },
   "file_extension": ".py",
   "mimetype": "text/x-python",
   "name": "python",
   "nbconvert_exporter": "python",
   "pygments_lexer": "ipython3",
   "version": "3.9.12"
  },
  "orig_nbformat": 4,
  "vscode": {
   "interpreter": {
    "hash": "f9536b55bfb9378dc6c66f0d0ab12324a50b180b1476f0ea0b6d5b7b55d4ecf0"
   }
  }
 },
 "nbformat": 4,
 "nbformat_minor": 2
}
