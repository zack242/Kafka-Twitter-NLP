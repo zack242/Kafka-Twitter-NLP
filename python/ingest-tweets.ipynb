{
 "cells": [
  {
   "cell_type": "markdown",
   "metadata": {},
   "source": [
    "# API-V2 Twitter"
   ]
  },
  {
   "cell_type": "code",
   "execution_count": null,
   "metadata": {},
   "outputs": [],
   "source": [
    "bear_token = \"AAAAAAAAAAAAAAAAAAAAAIZWkAEAAAAAeJD3pJ2XdPDP%2B%2FFyfd6RP%2BS9v4g%3DI3wV0t5FcqMiPjoSmpVMw9xbIWSUVtdXtVJTwwjnWnnQ787yDW\"\n",
    "consumer_key = \"kETmYbIATUc1Yup9Km5UQisge\"\n",
    "consumer_secret = \"tLNRVerfxVm54kw53WnvXm1R67BFfREARztb08jHZvjEkAqE8g\"\n",
    "access_token = \"2915442016-wjbiD94PvrgbBULNunWHShBk1OGUDEhfV1l2Cmv\"\n",
    "access_token_secret = \"7INkZrGrRZykxSuH6AflpxqR7WmXK2jKqfGVpxnkoHuXF\""
   ]
  },
  {
   "cell_type": "code",
   "execution_count": null,
   "metadata": {},
   "outputs": [],
   "source": [
    "\"bin/zookeeper-server-start.sh config/zookeeper.properties\"\n",
    "\"bin/kafka-server-start.sh config/server.properties\"\n"
   ]
  },
  {
   "cell_type": "code",
   "execution_count": null,
   "metadata": {},
   "outputs": [],
   "source": [
    "import tweepy\n",
    "import time\n",
    "import json \n",
    "from kafka import KafkaProducer\n",
    "\n",
    "bear_token = \"AAAAAAAAAAAAAAAAAAAAAIZWkAEAAAAAeJD3pJ2XdPDP%2B%2FFyfd6RP%2BS9v4g%3DI3wV0t5FcqMiPjoSmpVMw9xbIWSUVtdXtVJTwwjnWnnQ787yDW\"\n",
    "\n",
    "class MyStream(tweepy.StreamingClient):\n",
    "    # This function gets called when the stream is working\n",
    "    def on_connect(self):\n",
    "        print(\"Connected\")\n",
    "\n",
    "    def on_tweet(self, tweet):\n",
    "        print(f\"{tweet.author_id} : {tweet.public_metrics} : <<{tweet.text}>>\")\n",
    "        print(\"-\"*50)\n",
    "          producer.send('rawTwitter',json.dumps(dict(tweet), default=str).encode('utf-8'))\n",
    "    time.sleep(60) \n",
    "        return\n",
    "    \n",
    "    def reset_rules(self) : \n",
    "        for x in stream.get_rules().data :\n",
    "            stream.delete_rules(x.id)\n",
    "        return \n",
    "\n",
    "stream = MyStream(bearer_token=bear_token,wait_on_rate_limit=True,daemon=True)\n",
    "stream.reset_rules()\n",
    "rules = [\"messi lang:fr  -is:retweet\",\"mbappe lang:fr  -is:retweet\"]\n",
    "for rule in rules : \n",
    "    stream.add_rules(tweepy.StreamRule(value=rule))\n",
    "    \n",
    "stream.filter(expansions=[\"author_id\"],tweet_fields=[\"created_at\",\"possibly_sensitive\",\"lang\",\"public_metrics\"])\n"
   ]
  },
  {
   "cell_type": "code",
   "execution_count": null,
   "metadata": {},
   "outputs": [],
   "source": [
    "import tweepy\n",
    "consumer_key = \"kETmYbIATUc1Yup9Km5UQisge\"\n",
    "consumer_secret = \"tLNRVerfxVm54kw53WnvXm1R67BFfREARztb08jHZvjEkAqE8g\"\n",
    "access_token = \"2915442016-wjbiD94PvrgbBULNunWHShBk1OGUDEhfV1l2Cmv\"\n",
    "access_token_secret = \"7INkZrGrRZykxSuH6AflpxqR7WmXK2jKqfGVpxnkoHuXF\"\n",
    "\n",
    "auth = tweepy.OAuth1UserHandler(\n",
    "   consumer_key, consumer_secret, access_token, access_token_secret\n",
    ")\n",
    "\n",
    "api = tweepy.API(auth)\n",
    "\n",
    "public_tweets = api.home_timeline()\n",
    "for tweet in public_tweets:\n",
    "    print(tweet.text)"
   ]
  },
  {
   "cell_type": "code",
   "execution_count": null,
   "metadata": {},
   "outputs": [
    {
     "ename": "",
     "evalue": "",
     "output_type": "error",
     "traceback": [
      "\u001b[1;31mÉchec du démarrage du noyau. \n",
      "\u001b[1;31mLe noyau Python 3.8.9 n’est pas utilisable. Pour plus d’informations, consultez l’onglet Sortie de Jupyter. \n",
      "\u001b[1;31mPour plus d’informations, consultez Jupyter <a href='command:jupyter.viewOutput'>log</a>."
     ]
    }
   ],
   "source": [
    "import socketio\n",
    "\n",
    "sio = socketio.Client()\n",
    "\n",
    "@sio.event\n",
    "def connect():\n",
    "    print('connection established')\n",
    "\n",
    "@sio.event\n",
    "def my_message(data):\n",
    "    print('message received with ', data)\n",
    "    sio.emit('my response', {'response': 'my response'})\n",
    "\n",
    "@sio.event\n",
    "def disconnect():\n",
    "    print('disconnected from server')\n",
    "\n",
    "sio.connect('http://localhost:3000')\n",
    "sio.wait()"
   ]
  }
 ],
 "metadata": {
  "kernelspec": {
   "display_name": "Python 3.8.9 64-bit",
   "language": "python",
   "name": "python3"
  },
  "language_info": {
   "codemirror_mode": {
    "name": "ipython",
    "version": 3
   },
   "file_extension": ".py",
   "mimetype": "text/x-python",
   "name": "python",
   "nbconvert_exporter": "python",
   "pygments_lexer": "ipython3",
   "version": "3.8.9 (default, Apr 13 2022, 08:48:06) \n[Clang 13.1.6 (clang-1316.0.21.2.5)]"
  },
  "orig_nbformat": 4,
  "vscode": {
   "interpreter": {
    "hash": "31f2aee4e71d21fbe5cf8b01ff0e069b9275f58929596ceb00d14d90e3e16cd6"
   }
  }
 },
 "nbformat": 4,
 "nbformat_minor": 2
}
